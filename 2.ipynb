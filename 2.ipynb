{
 "cells": [
  {
   "cell_type": "code",
   "execution_count": 1,
   "metadata": {
    "execution": {
     "iopub.execute_input": "2025-04-05T10:29:37.374404Z",
     "iopub.status.busy": "2025-04-05T10:29:37.374311Z",
     "iopub.status.idle": "2025-04-05T10:29:37.506406Z",
     "shell.execute_reply": "2025-04-05T10:29:37.506012Z"
    }
   },
   "outputs": [],
   "source": [
    "import pandas as pd"
   ]
  },
  {
   "cell_type": "code",
   "execution_count": 2,
   "metadata": {
    "execution": {
     "iopub.execute_input": "2025-04-05T10:29:37.507591Z",
     "iopub.status.busy": "2025-04-05T10:29:37.507328Z",
     "iopub.status.idle": "2025-04-05T10:29:38.489072Z",
     "shell.execute_reply": "2025-04-05T10:29:38.488793Z"
    }
   },
   "outputs": [
    {
     "name": "stdout",
     "output_type": "stream",
     "text": [
      "Data from dataset/customers_dataset.csv dumped into table 'customers_dataset' in ecommerce_dataset.sqlite.\n"
     ]
    },
    {
     "name": "stdout",
     "output_type": "stream",
     "text": [
      "Data from dataset/orders_dataset.csv dumped into table 'orders_dataset' in ecommerce_dataset.sqlite.\n"
     ]
    },
    {
     "name": "stdout",
     "output_type": "stream",
     "text": [
      "Customers data:\n",
      "                        customer_id                customer_unique_id  \\\n",
      "0  06b8999e2fba1a1fbc88172c00ba8bc7  861eff4711a542e4b93843c6dd7febb0   \n",
      "1  18955e83d337fd6b2def6b18a428ac77  290c77bc529b7ac935b93aa66c333dc3   \n",
      "2  4e7b3e00288586ebd08712fdd0374a03  060e732b5b29e8181a18229c7b0b2b5e   \n",
      "3  b2b6027bc5c5109e529d4dc6358b12c3  259dac757896d24d7702b9acbbff3f3c   \n",
      "4  4f2d8ab171c80ec8364f7c12e35b23ad  345ecd01c38d18a9036ed96c73b8d066   \n",
      "\n",
      "   customer_zip_code_prefix          customer_city customer_state  \n",
      "0                     14409                 franca             SP  \n",
      "1                      9790  sao bernardo do campo             SP  \n",
      "2                      1151              sao paulo             SP  \n",
      "3                      8775        mogi das cruzes             SP  \n",
      "4                     13056               campinas             SP  \n",
      "\n",
      "Orders data:\n",
      "                           order_id                       customer_id  \\\n",
      "0  e481f51cbdc54678b7cc49136f2d6af7  9ef432eb6251297304e76186b10a928d   \n",
      "1  53cdb2fc8bc7dce0b6741e2150273451  b0830fb4747a6c6d20dea0b8c802d7ef   \n",
      "2  47770eb9100c2d0c44946d9cf07ec65d  41ce2a54c0b03bf3443c3d931a367089   \n",
      "3  949d5b44dbf5de918fe9c16f97b45f8a  f88197465ea7920adcdbec7375364d82   \n",
      "4  ad21c59c0840e6cb83a9ceb5573f8159  8ab97904e6daea8866dbdbc4fb7aad2c   \n",
      "\n",
      "  order_status order_purchase_timestamp    order_approved_at  \\\n",
      "0    delivered      2017-10-02 10:56:33  2017-10-02 11:07:15   \n",
      "1    delivered      2018-07-24 20:41:37  2018-07-26 03:24:27   \n",
      "2    delivered      2018-08-08 08:38:49  2018-08-08 08:55:23   \n",
      "3    delivered      2017-11-18 19:28:06  2017-11-18 19:45:59   \n",
      "4    delivered      2018-02-13 21:18:39  2018-02-13 22:20:29   \n",
      "\n",
      "  order_delivered_carrier_date order_delivered_customer_date  \\\n",
      "0          2017-10-04 19:55:00           2017-10-10 21:25:13   \n",
      "1          2018-07-26 14:31:00           2018-08-07 15:27:45   \n",
      "2          2018-08-08 13:50:00           2018-08-17 18:06:29   \n",
      "3          2017-11-22 13:39:59           2017-12-02 00:28:42   \n",
      "4          2018-02-14 19:46:34           2018-02-16 18:17:02   \n",
      "\n",
      "  order_estimated_delivery_date  \n",
      "0           2017-10-18 00:00:00  \n",
      "1           2018-08-13 00:00:00  \n",
      "2           2018-09-04 00:00:00  \n",
      "3           2017-12-15 00:00:00  \n",
      "4           2018-02-26 00:00:00  \n"
     ]
    }
   ],
   "source": [
    "import sqlite3\n",
    "\n",
    "\n",
    "def dump_csv_to_db(db_name: str, csv_path: str, table_name: str, chunksize: int = 10000) -> None:\n",
    "    with sqlite3.connect(db_name) as conn:\n",
    "        for chunk in pd.read_csv(csv_path, chunksize=chunksize):\n",
    "            chunk.to_sql(table_name, conn, if_exists='append', index=False)\n",
    "\n",
    "    print(f\"Data from {csv_path} dumped into table '{table_name}' in {db_name}.\")\n",
    "\n",
    "\n",
    "def read_table_to_df(db_name: str, table_name: str) -> pd.DataFrame:\n",
    "    with sqlite3.connect(db_name) as conn:\n",
    "        df = pd.read_sql_query(f'SELECT * FROM {table_name}', conn)\n",
    "    return df\n",
    "\n",
    "\n",
    "# Example usage:\n",
    "if __name__ == '__main__':\n",
    "    db_name = 'ecommerce_dataset.sqlite'\n",
    "\n",
    "    # Dump two datasets into the same DB:\n",
    "    dump_csv_to_db(db_name, 'dataset/customers_dataset.csv', 'customers_dataset')\n",
    "    dump_csv_to_db(db_name, 'dataset/orders_dataset.csv', 'orders_dataset')\n",
    "\n",
    "    # Read data back into DataFrames:\n",
    "    customers_dataset = read_table_to_df(db_name, 'customers_dataset')\n",
    "    orders_dataset = read_table_to_df(db_name, 'orders_dataset')\n",
    "\n",
    "    print('Customers data:')\n",
    "    print(customers_dataset.head())\n",
    "\n",
    "    print('\\nOrders data:')\n",
    "    print(orders_dataset.head())\n"
   ]
  },
  {
   "cell_type": "code",
   "execution_count": null,
   "metadata": {},
   "outputs": [],
   "source": []
  }
 ],
 "metadata": {
  "kernelspec": {
   "display_name": ".venv",
   "language": "python",
   "name": "python3"
  },
  "language_info": {
   "codemirror_mode": {
    "name": "ipython",
    "version": 3
   },
   "file_extension": ".py",
   "mimetype": "text/x-python",
   "name": "python",
   "nbconvert_exporter": "python",
   "pygments_lexer": "ipython3",
   "version": "3.13.1"
  }
 },
 "nbformat": 4,
 "nbformat_minor": 2
}
